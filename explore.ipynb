{
 "cells": [
  {
   "cell_type": "code",
   "execution_count": null,
   "id": "8b479683-1a0a-4488-8a37-4a95b77ea1c1",
   "metadata": {
    "tags": []
   },
   "outputs": [],
   "source": [
    "import os\n",
    "import time\n",
    "\n",
    "import numpy as np\n",
    "import pandas as pd\n",
    "import geopandas as gpd\n",
    "\n",
    "import matplotlib.pyplot as plt"
   ]
  },
  {
   "cell_type": "code",
   "execution_count": null,
   "id": "29ff478c-87bf-46f3-9cb6-ed64571d2489",
   "metadata": {
    "tags": []
   },
   "outputs": [],
   "source": [
    "def check_code_info(data):\n",
    "     \n",
    "    print('Data shape:',  data.shape, '\\n',\n",
    "          'Country: \\n',\n",
    "          '  Number of non-nan records:', data['country_code'].dropna().shape, '\\n',\n",
    "          '  Number of unique records:',  data['country_code'].dropna().drop_duplicates().shape, '\\n',\n",
    "          'IATA number: \\n',\n",
    "          '  Number of non-nan records:', data['iata'].dropna().shape, '\\n',\n",
    "          '  Number of unique records:',  data['iata'].dropna().drop_duplicates().shape, '\\n',\n",
    "          'ICAO number: \\n',\n",
    "          '  Number of non-nan records:', data['icao'].dropna().shape, '\\n',\n",
    "          '  Number of unique records:',  data['icao'].dropna().drop_duplicates().shape, '\\n'\n",
    "         )"
   ]
  },
  {
   "cell_type": "markdown",
   "id": "ef553f67-9064-4f0f-97c3-ba440b9205b6",
   "metadata": {},
   "source": [
    "# 1. Dataset 1\n",
    "\n",
    "Source: [github:ip2location/ip2location-iata-icao](https://github.com/ip2location/ip2location-iata-icao)\n"
   ]
  },
  {
   "cell_type": "code",
   "execution_count": null,
   "id": "5cba70b9-efea-4d60-a2f8-51680eb8a625",
   "metadata": {
    "tags": []
   },
   "outputs": [],
   "source": [
    "# Dataset 1\n",
    "path = 'https://raw.githubusercontent.com/ip2location/ip2location-iata-icao/master/iata-icao.csv'\n",
    "airport = pd.read_csv(path) \\\n",
    "            .rename(columns={'latitude':'lat', 'longitude':'lon'}) \\\n",
    "            .replace('', pd.NA)\n",
    "\n",
    "check_code_info(airport)"
   ]
  },
  {
   "cell_type": "code",
   "execution_count": null,
   "id": "d45243c1-be40-45d3-a7d9-72daeac8cf25",
   "metadata": {
    "tags": []
   },
   "outputs": [],
   "source": [
    "airport[airport['country_code'].isna()]"
   ]
  },
  {
   "cell_type": "code",
   "execution_count": null,
   "id": "15281d84-3120-497d-b224-0624585503e1",
   "metadata": {
    "tags": []
   },
   "outputs": [],
   "source": [
    "airport_cn = airport.query('country_code == \\'CN\\'')\n",
    "print('CN airport shape:', airport_cn.shape)\n",
    "airport_cn[airport_cn['icao'].isna()]"
   ]
  },
  {
   "cell_type": "markdown",
   "id": "a7046133-b570-47cc-8684-831bb2cd0d6a",
   "metadata": {
    "tags": []
   },
   "source": [
    "# 2. Dataset 2\n",
    "\n",
    "Source: [github:mwgg/Airports](https://github.com/mwgg/Airports/issues)\n",
    "\n",
    "- Contain military airport "
   ]
  },
  {
   "cell_type": "code",
   "execution_count": null,
   "id": "ccd557b7-ac0c-4c21-9dff-bb83ec90e403",
   "metadata": {
    "tags": []
   },
   "outputs": [],
   "source": [
    "# Dataset 2\n",
    "path = 'https://raw.githubusercontent.com/mwgg/Airports/master/airports.json'\n",
    "airport = pd.read_json(path, orient='index') \\\n",
    "            .rename(columns={'country':'country_code'})\n",
    "\n",
    "# NA data\n",
    "airport['iata'] = airport['iata'].replace('0', np.nan)\n",
    "airport = airport.replace(['', 'NA', pd.NA], np.nan)\n",
    "\n",
    "check_code_info(airport)"
   ]
  },
  {
   "cell_type": "code",
   "execution_count": null,
   "id": "aeb6dcd2-3769-4b2b-9ae1-b86f6eb34c67",
   "metadata": {},
   "outputs": [],
   "source": [
    "# Dataset 1\n",
    "# airport = pd.read_excel('data/airport/world_airports_location.xlsx') \\\n",
    "#             .dropna(subset='gps_code') \\\n",
    "#             .query('scheduled_service == \\'yes\\'') \\\n",
    "#             .query('type != \\'heliport\\'') \\\n",
    "#             .query('type != \\'closed\\'') \\\n",
    "#             .reset_index(drop=True)\n"
   ]
  }
 ],
 "metadata": {
  "kernelspec": {
   "display_name": "Python 3 (ipykernel)",
   "language": "python",
   "name": "python3"
  },
  "language_info": {
   "codemirror_mode": {
    "name": "ipython",
    "version": 3
   },
   "file_extension": ".py",
   "mimetype": "text/x-python",
   "name": "python",
   "nbconvert_exporter": "python",
   "pygments_lexer": "ipython3",
   "version": "3.9.16"
  }
 },
 "nbformat": 4,
 "nbformat_minor": 5
}
