{
 "cells": [
  {
   "cell_type": "code",
   "execution_count": 98,
   "id": "478c9329-45cb-440b-bf57-484fa105795a",
   "metadata": {
    "tags": []
   },
   "outputs": [],
   "source": [
    "import os\n",
    "import time\n",
    "\n",
    "import numpy as np\n",
    "import pandas as pd\n",
    "import geopandas as gpd\n",
    "\n",
    "import matplotlib.pyplot as plt"
   ]
  },
  {
   "cell_type": "code",
   "execution_count": 99,
   "id": "7335e0dc-9264-4a60-9d1b-5dca6f511d29",
   "metadata": {
    "tags": []
   },
   "outputs": [],
   "source": [
    "def check_code_info(data):\n",
    "     \n",
    "    print('Data shape:',  data.shape, '\\n',\n",
    "          'Country: \\n',\n",
    "          '  Number of non-nan records:', data['country_code'].dropna().shape, '\\n',\n",
    "          '  Number of unique records:',  data['country_code'].dropna().drop_duplicates().shape, '\\n',\n",
    "          'IATA number: \\n',\n",
    "          '  Number of non-nan records:', data['iata'].dropna().shape, '\\n',\n",
    "          '  Number of unique records:',  data['iata'].dropna().drop_duplicates().shape, '\\n',\n",
    "          'ICAO number: \\n',\n",
    "          '  Number of non-nan records:', data['icao'].dropna().shape, '\\n',\n",
    "          '  Number of unique records:',  data['icao'].dropna().drop_duplicates().shape, '\\n'\n",
    "         )\n",
    "\n",
    "def conver_to_geo_point(data):\n",
    "    gdf = gpd.GeoDataFrame(data, \n",
    "                           geometry = gpd.points_from_xy(data['lon'], data['lat']),\n",
    "                           crs = 'EPSG:4326'\n",
    "                          )\n",
    "    return gdf"
   ]
  },
  {
   "cell_type": "markdown",
   "id": "e2d2c53a-29c9-4923-886b-5eff349cc89c",
   "metadata": {},
   "source": [
    "# 1. Read data"
   ]
  },
  {
   "cell_type": "code",
   "execution_count": 100,
   "id": "0e24a458-c17e-44d5-8745-a8e335d12368",
   "metadata": {
    "tags": []
   },
   "outputs": [
    {
     "name": "stdout",
     "output_type": "stream",
     "text": [
      "Data shape: (8936, 7)\n",
      "Data shape: (28898, 10)\n"
     ]
    }
   ],
   "source": [
    "# Dataset 1\n",
    "path = 'https://raw.githubusercontent.com/ip2location/ip2location-iata-icao/master/iata-icao.csv'\n",
    "airport_1 = pd.read_csv(path) \\\n",
    "              .rename(columns={'latitude':'lat', 'longitude':'lon'}) \\\n",
    "              .assign(iata = lambda x : x['iata'].replace(['', '0', 'NA', pd.NA, None], np.nan))\n",
    "\n",
    "print('Data shape:', airport_1.shape)\n",
    "\n",
    "\n",
    "# Dataset 2\n",
    "path = 'https://raw.githubusercontent.com/mwgg/Airports/master/airports.json'\n",
    "airport_2 = pd.read_json(path, orient='index') \\\n",
    "              .rename(columns={'country':'country_code'}) \\\n",
    "              .assign(iata = lambda x : x['iata'].replace(['', '0', 'NA', pd.NA, None], np.nan))\n",
    "print('Data shape:', airport_2.shape)"
   ]
  },
  {
   "cell_type": "code",
   "execution_count": 101,
   "id": "4c515c01-376c-44d9-bdb1-1748413cf5fc",
   "metadata": {
    "tags": []
   },
   "outputs": [
    {
     "name": "stdout",
     "output_type": "stream",
     "text": [
      "Data shape: (266, 7) \n",
      " Country: \n",
      "   Number of non-nan records: (266,) \n",
      "   Number of unique records: (3,) \n",
      " IATA number: \n",
      "   Number of non-nan records: (266,) \n",
      "   Number of unique records: (266,) \n",
      " ICAO number: \n",
      "   Number of non-nan records: (246,) \n",
      "   Number of unique records: (246,) \n",
      "\n",
      "Data shape: (185, 10) \n",
      " Country: \n",
      "   Number of non-nan records: (185,) \n",
      "   Number of unique records: (3,) \n",
      " IATA number: \n",
      "   Number of non-nan records: (185,) \n",
      "   Number of unique records: (185,) \n",
      " ICAO number: \n",
      "   Number of non-nan records: (185,) \n",
      "   Number of unique records: (185,) \n",
      "\n"
     ]
    }
   ],
   "source": [
    "airport_cn_1 = airport_1.dropna(subset='iata')\n",
    "airport_cn_1 = airport_1[airport_1['country_code'].isin(['CN', 'MO', 'HK'])]\n",
    "\n",
    "check_code_info(airport_cn_1)\n",
    "\n",
    "\n",
    "airport_cn_2 = airport_2.dropna(subset='iata')\n",
    "airport_cn_2 = airport_cn_2[airport_cn_2['country_code'].isin(['CN', 'MO', 'HK'])]\n",
    "\n",
    "check_code_info(airport_cn_2)"
   ]
  },
  {
   "cell_type": "code",
   "execution_count": 102,
   "id": "26cb23e0-84e0-4088-b1fd-43b10f3f6ecc",
   "metadata": {
    "tags": []
   },
   "outputs": [
    {
     "data": {
      "text/html": [
       "<div>\n",
       "<style scoped>\n",
       "    .dataframe tbody tr th:only-of-type {\n",
       "        vertical-align: middle;\n",
       "    }\n",
       "\n",
       "    .dataframe tbody tr th {\n",
       "        vertical-align: top;\n",
       "    }\n",
       "\n",
       "    .dataframe thead th {\n",
       "        text-align: right;\n",
       "    }\n",
       "</style>\n",
       "<table border=\"1\" class=\"dataframe\">\n",
       "  <thead>\n",
       "    <tr style=\"text-align: right;\">\n",
       "      <th></th>\n",
       "      <th>country_code</th>\n",
       "      <th>region_name</th>\n",
       "      <th>icao</th>\n",
       "      <th>airport</th>\n",
       "      <th>lat</th>\n",
       "      <th>lon</th>\n",
       "    </tr>\n",
       "    <tr>\n",
       "      <th>iata</th>\n",
       "      <th></th>\n",
       "      <th></th>\n",
       "      <th></th>\n",
       "      <th></th>\n",
       "      <th></th>\n",
       "      <th></th>\n",
       "    </tr>\n",
       "  </thead>\n",
       "  <tbody>\n",
       "    <tr>\n",
       "      <th>CQW</th>\n",
       "      <td>CN</td>\n",
       "      <td>Chongqing Shi</td>\n",
       "      <td>ZUWL</td>\n",
       "      <td>Chongqing Xiannyushan Airport</td>\n",
       "      <td>29.4658</td>\n",
       "      <td>107.692</td>\n",
       "    </tr>\n",
       "    <tr>\n",
       "      <th>BAR</th>\n",
       "      <td>CN</td>\n",
       "      <td>Hainan</td>\n",
       "      <td>NaN</td>\n",
       "      <td>Qionghai Bo'ao Airport</td>\n",
       "      <td>19.1382</td>\n",
       "      <td>110.455</td>\n",
       "    </tr>\n",
       "    <tr>\n",
       "      <th>FYJ</th>\n",
       "      <td>CN</td>\n",
       "      <td>Heilongjiang</td>\n",
       "      <td>ZYFY</td>\n",
       "      <td>Fuyuan Dongji Airport</td>\n",
       "      <td>48.1995</td>\n",
       "      <td>134.366</td>\n",
       "    </tr>\n",
       "    <tr>\n",
       "      <th>PZI</th>\n",
       "      <td>CN</td>\n",
       "      <td>Sichuan</td>\n",
       "      <td>ZUZH</td>\n",
       "      <td>Panzhihua Bao'anying Airport</td>\n",
       "      <td>26.5400</td>\n",
       "      <td>101.799</td>\n",
       "    </tr>\n",
       "    <tr>\n",
       "      <th>HBQ</th>\n",
       "      <td>CN</td>\n",
       "      <td>Qinghai Sheng</td>\n",
       "      <td>ZLHB</td>\n",
       "      <td>Haibei Qilian Airport</td>\n",
       "      <td>38.0120</td>\n",
       "      <td>100.644</td>\n",
       "    </tr>\n",
       "    <tr>\n",
       "      <th>...</th>\n",
       "      <td>...</td>\n",
       "      <td>...</td>\n",
       "      <td>...</td>\n",
       "      <td>...</td>\n",
       "      <td>...</td>\n",
       "      <td>...</td>\n",
       "    </tr>\n",
       "    <tr>\n",
       "      <th>HSC</th>\n",
       "      <td>CN</td>\n",
       "      <td>Guangdong</td>\n",
       "      <td>NaN</td>\n",
       "      <td>Shaoguan Guitou Airport</td>\n",
       "      <td>24.9786</td>\n",
       "      <td>113.421</td>\n",
       "    </tr>\n",
       "    <tr>\n",
       "      <th>NZL</th>\n",
       "      <td>CN</td>\n",
       "      <td>Nei Mongol</td>\n",
       "      <td>NaN</td>\n",
       "      <td>Zhalantun Chengjisihan Airport</td>\n",
       "      <td>47.8658</td>\n",
       "      <td>122.768</td>\n",
       "    </tr>\n",
       "    <tr>\n",
       "      <th>RHT</th>\n",
       "      <td>CN</td>\n",
       "      <td>Nei Mongol</td>\n",
       "      <td>NaN</td>\n",
       "      <td>Alxa Right Banner Badanjilin Airport</td>\n",
       "      <td>39.2250</td>\n",
       "      <td>101.546</td>\n",
       "    </tr>\n",
       "    <tr>\n",
       "      <th>WDS</th>\n",
       "      <td>CN</td>\n",
       "      <td>Hubei</td>\n",
       "      <td>ZHSY</td>\n",
       "      <td>Shiyan Wudangshan Airport</td>\n",
       "      <td>32.5917</td>\n",
       "      <td>110.908</td>\n",
       "    </tr>\n",
       "    <tr>\n",
       "      <th>YUA</th>\n",
       "      <td>CN</td>\n",
       "      <td>Yunnan</td>\n",
       "      <td>ZPYM</td>\n",
       "      <td>Yuanmou Air Base</td>\n",
       "      <td>25.7375</td>\n",
       "      <td>101.882</td>\n",
       "    </tr>\n",
       "  </tbody>\n",
       "</table>\n",
       "<p>85 rows × 6 columns</p>\n",
       "</div>"
      ],
      "text/plain": [
       "     country_code    region_name  icao                               airport  \\\n",
       "iata                                                                           \n",
       "CQW            CN  Chongqing Shi  ZUWL         Chongqing Xiannyushan Airport   \n",
       "BAR            CN         Hainan   NaN                Qionghai Bo'ao Airport   \n",
       "FYJ            CN   Heilongjiang  ZYFY                 Fuyuan Dongji Airport   \n",
       "PZI            CN        Sichuan  ZUZH          Panzhihua Bao'anying Airport   \n",
       "HBQ            CN  Qinghai Sheng  ZLHB                 Haibei Qilian Airport   \n",
       "...           ...            ...   ...                                   ...   \n",
       "HSC            CN      Guangdong   NaN               Shaoguan Guitou Airport   \n",
       "NZL            CN     Nei Mongol   NaN        Zhalantun Chengjisihan Airport   \n",
       "RHT            CN     Nei Mongol   NaN  Alxa Right Banner Badanjilin Airport   \n",
       "WDS            CN          Hubei  ZHSY             Shiyan Wudangshan Airport   \n",
       "YUA            CN         Yunnan  ZPYM                      Yuanmou Air Base   \n",
       "\n",
       "          lat      lon  \n",
       "iata                    \n",
       "CQW   29.4658  107.692  \n",
       "BAR   19.1382  110.455  \n",
       "FYJ   48.1995  134.366  \n",
       "PZI   26.5400  101.799  \n",
       "HBQ   38.0120  100.644  \n",
       "...       ...      ...  \n",
       "HSC   24.9786  113.421  \n",
       "NZL   47.8658  122.768  \n",
       "RHT   39.2250  101.546  \n",
       "WDS   32.5917  110.908  \n",
       "YUA   25.7375  101.882  \n",
       "\n",
       "[85 rows x 6 columns]"
      ]
     },
     "execution_count": 102,
     "metadata": {},
     "output_type": "execute_result"
    }
   ],
   "source": [
    "# difference \n",
    "diff_iata_1 = list(set(airport_cn_1['iata']).difference(set(airport_cn_2['iata'])))\n",
    "diff_iata_2 = list(set(airport_cn_2['iata']).difference(set(airport_cn_1['iata'])))\n",
    "\n",
    "airport_cn_1.set_index('iata').reindex(diff_iata_1)"
   ]
  },
  {
   "cell_type": "code",
   "execution_count": 103,
   "id": "c953896d-8ace-444b-8b0d-398bf14f5896",
   "metadata": {
    "tags": []
   },
   "outputs": [
    {
     "data": {
      "text/html": [
       "<div>\n",
       "<style scoped>\n",
       "    .dataframe tbody tr th:only-of-type {\n",
       "        vertical-align: middle;\n",
       "    }\n",
       "\n",
       "    .dataframe tbody tr th {\n",
       "        vertical-align: top;\n",
       "    }\n",
       "\n",
       "    .dataframe thead th {\n",
       "        text-align: right;\n",
       "    }\n",
       "</style>\n",
       "<table border=\"1\" class=\"dataframe\">\n",
       "  <thead>\n",
       "    <tr style=\"text-align: right;\">\n",
       "      <th></th>\n",
       "      <th>icao</th>\n",
       "      <th>name</th>\n",
       "      <th>city</th>\n",
       "      <th>state</th>\n",
       "      <th>country_code</th>\n",
       "      <th>elevation</th>\n",
       "      <th>lat</th>\n",
       "      <th>lon</th>\n",
       "      <th>tz</th>\n",
       "    </tr>\n",
       "    <tr>\n",
       "      <th>iata</th>\n",
       "      <th></th>\n",
       "      <th></th>\n",
       "      <th></th>\n",
       "      <th></th>\n",
       "      <th></th>\n",
       "      <th></th>\n",
       "      <th></th>\n",
       "      <th></th>\n",
       "      <th></th>\n",
       "    </tr>\n",
       "  </thead>\n",
       "  <tbody>\n",
       "    <tr>\n",
       "      <th>WHU</th>\n",
       "      <td>ZSWU</td>\n",
       "      <td>Wuhu Air Base</td>\n",
       "      <td>Wuhu</td>\n",
       "      <td>Anhui</td>\n",
       "      <td>CN</td>\n",
       "      <td>0</td>\n",
       "      <td>31.390600</td>\n",
       "      <td>118.408997</td>\n",
       "      <td>Asia/Shanghai</td>\n",
       "    </tr>\n",
       "    <tr>\n",
       "      <th>NAY</th>\n",
       "      <td>ZBNY</td>\n",
       "      <td>Beijing Nanyuan Airport</td>\n",
       "      <td>Beijing</td>\n",
       "      <td>Beijing</td>\n",
       "      <td>CN</td>\n",
       "      <td>0</td>\n",
       "      <td>39.782799</td>\n",
       "      <td>116.388000</td>\n",
       "      <td>Asia/Shanghai</td>\n",
       "    </tr>\n",
       "    <tr>\n",
       "      <th>PKX</th>\n",
       "      <td>ZBAD</td>\n",
       "      <td>Beijing Daxing International Airport</td>\n",
       "      <td>Beijing</td>\n",
       "      <td>Beijing</td>\n",
       "      <td>CN</td>\n",
       "      <td>98</td>\n",
       "      <td>39.509167</td>\n",
       "      <td>116.410556</td>\n",
       "      <td>Asia/Shanghai</td>\n",
       "    </tr>\n",
       "    <tr>\n",
       "      <th>SHP</th>\n",
       "      <td>ZBSH</td>\n",
       "      <td>Shanhaiguan Airport</td>\n",
       "      <td>Qinhuangdao</td>\n",
       "      <td>Hebei</td>\n",
       "      <td>CN</td>\n",
       "      <td>30</td>\n",
       "      <td>39.968102</td>\n",
       "      <td>119.731003</td>\n",
       "      <td>Asia/Shanghai</td>\n",
       "    </tr>\n",
       "  </tbody>\n",
       "</table>\n",
       "</div>"
      ],
      "text/plain": [
       "      icao                                  name         city    state  \\\n",
       "iata                                                                     \n",
       "WHU   ZSWU                         Wuhu Air Base         Wuhu    Anhui   \n",
       "NAY   ZBNY               Beijing Nanyuan Airport      Beijing  Beijing   \n",
       "PKX   ZBAD  Beijing Daxing International Airport      Beijing  Beijing   \n",
       "SHP   ZBSH                   Shanhaiguan Airport  Qinhuangdao    Hebei   \n",
       "\n",
       "     country_code  elevation        lat         lon             tz  \n",
       "iata                                                                \n",
       "WHU            CN          0  31.390600  118.408997  Asia/Shanghai  \n",
       "NAY            CN          0  39.782799  116.388000  Asia/Shanghai  \n",
       "PKX            CN         98  39.509167  116.410556  Asia/Shanghai  \n",
       "SHP            CN         30  39.968102  119.731003  Asia/Shanghai  "
      ]
     },
     "execution_count": 103,
     "metadata": {},
     "output_type": "execute_result"
    }
   ],
   "source": [
    "airport_cn_2.set_index('iata').reindex(diff_iata_2)"
   ]
  },
  {
   "cell_type": "markdown",
   "id": "645f2c3a-d7ef-484c-a0c9-d23eb0272655",
   "metadata": {},
   "source": [
    "# Manual Addition"
   ]
  },
  {
   "cell_type": "code",
   "execution_count": 104,
   "id": "698c125b-9eb9-40df-a3d1-906597b00a65",
   "metadata": {
    "tags": []
   },
   "outputs": [
    {
     "name": "stdout",
     "output_type": "stream",
     "text": [
      "Data shape: (267, 7) \n",
      " Country: \n",
      "   Number of non-nan records: (267,) \n",
      "   Number of unique records: (3,) \n",
      " IATA number: \n",
      "   Number of non-nan records: (267,) \n",
      "   Number of unique records: (267,) \n",
      " ICAO number: \n",
      "   Number of non-nan records: (247,) \n",
      "   Number of unique records: (247,) \n",
      "\n"
     ]
    }
   ],
   "source": [
    "new_airport = [\n",
    "    {'country_code' : 'CN', \n",
    "     'region_name'  : 'Beijing', \n",
    "     'iata'         : 'PKX', \n",
    "     'icao'         : 'ZBAD', \n",
    "     'airport'      : 'Beijing Daxing International Airport',\n",
    "     'lat'          : 39.509167, \n",
    "     'lon'          : 116.410556  }\n",
    "]\n",
    "\n",
    "\n",
    "airport_cn = pd.concat([airport_cn_1, pd.DataFrame(new_airport)], \n",
    "                          ignore_index=True) \\\n",
    "                 .sort_values(['country_code', 'region_name', 'iata', 'icao'])\n",
    "\n",
    "\n",
    "check_code_info(airport_cn)"
   ]
  },
  {
   "cell_type": "markdown",
   "id": "8f76ab6f-e32e-4967-9e1c-fdf6981b916e",
   "metadata": {},
   "source": [
    "# Save data"
   ]
  },
  {
   "cell_type": "code",
   "execution_count": 105,
   "id": "0aa7b25d-82b4-4ac8-8090-b4d992a3ce99",
   "metadata": {},
   "outputs": [],
   "source": [
    "airport_cn = pd.concat([airport_cn_1, \n",
    "                        airport_cn_2.rename(columns={'name'  : 'airport',\n",
    "                                                     'state' : 'region_name'})], \n",
    "                       ignore_index=True) \\\n",
    "               .drop_duplicates(subset='iata', keep='first') \\\n",
    "               .sort_values(['country_code', 'region_name', 'iata']) \\\n",
    "                [['country_code', 'region_name', 'iata', 'icao', 'airport', 'lat', 'lon']] \n",
    "\n",
    "airport_cn.to_csv('processed_data/cn_airport.csv', index=False, encoding='utf-8')"
   ]
  },
  {
   "cell_type": "code",
   "execution_count": 106,
   "id": "e1741daa-873c-4070-94b3-ad0bcdd07edf",
   "metadata": {
    "tags": []
   },
   "outputs": [
    {
     "name": "stderr",
     "output_type": "stream",
     "text": [
      "C:\\Users\\e0751551\\AppData\\Local\\Temp\\ipykernel_40584\\1817332554.py:1: UserWarning: Column names longer than 10 characters will be truncated when saved to ESRI Shapefile.\n",
      "  gpd.GeoDataFrame(airport_cn,\n"
     ]
    }
   ],
   "source": [
    "gpd.GeoDataFrame(airport_cn,\n",
    "                 geometry = gpd.points_from_xy(airport_cn['lon'], airport_cn['lat']),\n",
    "                 crs = 'EPSG:4326') \\\n",
    "    .to_file('processed_data/cn_airport_location', encoding='utf-8')"
   ]
  }
 ],
 "metadata": {
  "kernelspec": {
   "display_name": "Python 3 (ipykernel)",
   "language": "python",
   "name": "python3"
  },
  "language_info": {
   "codemirror_mode": {
    "name": "ipython",
    "version": 3
   },
   "file_extension": ".py",
   "mimetype": "text/x-python",
   "name": "python",
   "nbconvert_exporter": "python",
   "pygments_lexer": "ipython3",
   "version": "3.9.16"
  }
 },
 "nbformat": 4,
 "nbformat_minor": 5
}
