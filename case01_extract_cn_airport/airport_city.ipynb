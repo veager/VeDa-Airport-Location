{
 "cells": [
  {
   "cell_type": "code",
   "execution_count": 38,
   "id": "72166a3b-e3a0-46b5-97f7-97ac2cfcedc6",
   "metadata": {
    "tags": []
   },
   "outputs": [],
   "source": [
    "import os\n",
    "import numpy as np\n",
    "import pandas as pd\n",
    "import geopandas as gpd"
   ]
  },
  {
   "cell_type": "code",
   "execution_count": 39,
   "id": "04d0dc7d-3f7a-4426-adcc-fcdce2fd15a6",
   "metadata": {
    "tags": []
   },
   "outputs": [
    {
     "name": "stdout",
     "output_type": "stream",
     "text": [
      "(270, 8)\n",
      "(372, 5)\n"
     ]
    }
   ],
   "source": [
    "airport = pd.read_csv('processed_data/cn_airport.csv')\n",
    "airport = gpd.GeoDataFrame(airport,\n",
    "                           geometry = gpd.points_from_xy(airport['lon'], airport['lat']),\n",
    "                           crs = 'EPSG:4326')\n",
    "print(airport.shape)\n",
    "\n",
    "path = r'C:\\zhouweifile\\Transportation Data\\China\\Boundary\\shengshixian.com-20240305.zip!shengshixian.com-master\\CTAmap(2013年-2023年)行政区划矢量\\2023年\\2023年地级\\2023年地级.shp'\n",
    "path = path.replace('\\\\', '/')\n",
    "city = gpd.read_file(path) \\\n",
    "           [['地名', '省级', 'ENG_NAME', 'NAME_1', 'geometry']] \\\n",
    "           .rename(columns = {'地名' : 'city_n_zh', \n",
    "                              '省级' : 'province_n_zh', \n",
    "                              'ENG_NAME' : 'city_n_en',\n",
    "                              'NAME_1'   : 'province_n_en',})\n",
    "print(city.shape)"
   ]
  },
  {
   "cell_type": "code",
   "execution_count": 37,
   "id": "6eee8681-f038-4bbb-bd5c-2a2bccd61451",
   "metadata": {
    "tags": []
   },
   "outputs": [],
   "source": [
    "airport.sjoin(city, how='left', predicate='intersects') \\\n",
    "       .drop(['geometry', 'index_right'], axis=1) \\\n",
    "       .sort_values(['country_code', 'region_name', 'iata']) \\\n",
    "       .to_csv('processed_data/cn_airport_city.csv', index=False, encoding='utf-8')"
   ]
  }
 ],
 "metadata": {
  "kernelspec": {
   "display_name": "Python 3 (ipykernel)",
   "language": "python",
   "name": "python3"
  },
  "language_info": {
   "codemirror_mode": {
    "name": "ipython",
    "version": 3
   },
   "file_extension": ".py",
   "mimetype": "text/x-python",
   "name": "python",
   "nbconvert_exporter": "python",
   "pygments_lexer": "ipython3",
   "version": "3.9.16"
  }
 },
 "nbformat": 4,
 "nbformat_minor": 5
}
